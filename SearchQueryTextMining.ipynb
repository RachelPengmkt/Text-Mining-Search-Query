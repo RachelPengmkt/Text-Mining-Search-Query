{
 "cells": [
  {
   "cell_type": "code",
   "execution_count": null,
   "metadata": {
    "collapsed": true
   },
   "outputs": [],
   "source": [
    "import pandas as pd\n",
    "import numpy as np\n",
    "from numpy import inf"
   ]
  },
  {
   "cell_type": "code",
   "execution_count": null,
   "metadata": {},
   "outputs": [],
   "source": [
    "#Read search query file\n",
    "sq = pd.read_csv('SearchQuery.csv', skiprows=1, usecols = ['Search term','Clicks', 'Impressions', 'Cost', 'Conversions'])\n",
    "sq[0:5]"
   ]
  },
  {
   "cell_type": "code",
   "execution_count": null,
   "metadata": {},
   "outputs": [],
   "source": [
    "#Segment each search term to a search word, and calculate the performance of a search word by adding up the performance of all the search terms that contain that search word\n",
    "strst_terms=[]\n",
    "strst_cost=[]\n",
    "strst_impressions=[]\n",
    "strst_clicks=[]\n",
    "strst_conversions=[]\n",
    "for i in range(len(sq)):\n",
    "    terms=sq['Search term'][i].split()\n",
    "    #print(terms)\n",
    "    cost=sq['Cost'][i]\n",
    "    impressions=sq['Impressions'][i]\n",
    "    clicks=sq['Clicks'][i]\n",
    "    conversions=sq['Conversions'][i]\n",
    "    #print(cost)\n",
    "    for t in range(len(terms)):\n",
    "        strst_terms.append(terms[t])\n",
    "        strst_cost.append(cost)\n",
    "        strst_impressions.append(impressions)\n",
    "        strst_clicks.append(clicks)\n",
    "        strst_conversions.append(conversions)\n",
    "#print(len(strst_terms))\n",
    "#print(len(strst_cost))\n",
    "\n",
    "print(strst_terms)\n",
    "\n"
   ]
  },
  {
   "cell_type": "code",
   "execution_count": null,
   "metadata": {},
   "outputs": [],
   "source": [
    "#Create a new dataframe and show search words with aggregated cost, impression, clicks and conversion data\n",
    "strst_list = pd.DataFrame(\n",
    "    {'strst_terms': strst_terms,\n",
    "     'strst_cost': strst_cost,\n",
    "     'strst_impressions': strst_impressions,\n",
    "     'strst_clicks': strst_clicks,\n",
    "     'strst_conversions': strst_conversions,\n",
    "     })\n",
    "strst_list['strst_cost'] = strst_list['strst_cost'].str.replace(',', '').astype(float)\n",
    "#strst_list['strst_clicks'] = strst_list['strst_clicks'].str.replace(',', '').astype(float)\n",
    "strst_list['strst_conversions'] = strst_list['strst_conversions'].str.replace(',', '').astype(float)\n",
    "strst_list.groupby('strst_terms')['strst_cost'].sum().sort_values(ascending=False)    "
   ]
  },
  {
   "cell_type": "code",
   "execution_count": null,
   "metadata": {},
   "outputs": [],
   "source": [
    "#Calculate aggregated conversion rate, click through rate and cost per lead\n",
    "out = strst_list.groupby(['strst_terms'], sort=0).apply(lambda g: pd.Series({\n",
    "'strst_clicks': g.strst_clicks.sum(),\n",
    "'strst_conversions': g.strst_conversions.sum(),\n",
    "'strst_cost': g.strst_cost.sum(),\n",
    "'strst_impressions': g.strst_impressions.sum(),\n",
    "'count': g.strst_clicks.count(),\n",
    "})   )\n",
    "out['strst_CR'] = out['strst_conversions']/out['strst_clicks']\n",
    "out['strst_CTR'] = out['strst_clicks']/out['strst_impressions']\n",
    "out['strst_CPL'] = out['strst_cost']/out['strst_conversions']\n",
    "out[ out['strst_CPL'] < inf].sort_values(by='strst_CPL', ascending = False)\n"
   ]
  },
  {
   "cell_type": "code",
   "execution_count": null,
   "metadata": {},
   "outputs": [],
   "source": [
    "#Output a csv file of performance on search words and sort by cost\n",
    "out = out.sort_values(by='strst_cost', ascending = False)\n",
    "fresult=out.drop(out.index[0])\n",
    "fresult[0:5]\n",
    "fresult.to_csv('SQResult.csv')\n"
   ]
  }
 ],
 "metadata": {
  "kernelspec": {
   "display_name": "Python 3",
   "language": "python",
   "name": "python3"
  },
  "language_info": {
   "codemirror_mode": {
    "name": "ipython",
    "version": 3
   },
   "file_extension": ".py",
   "mimetype": "text/x-python",
   "name": "python",
   "nbconvert_exporter": "python",
   "pygments_lexer": "ipython3",
   "version": "3.6.3"
  }
 },
 "nbformat": 4,
 "nbformat_minor": 2
}
